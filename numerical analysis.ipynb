{
  "nbformat": 4,
  "nbformat_minor": 0,
  "metadata": {
    "colab": {
      "provenance": [],
      "toc_visible": true,
      "authorship_tag": "ABX9TyP/bK1IE2f+a+6C7RXURPFS",
      "include_colab_link": true
    },
    "kernelspec": {
      "name": "python3",
      "display_name": "Python 3"
    },
    "language_info": {
      "name": "python"
    }
  },
  "cells": [
    {
      "cell_type": "markdown",
      "metadata": {
        "id": "view-in-github",
        "colab_type": "text"
      },
      "source": [
        "<a href=\"https://colab.research.google.com/github/Kimani-shamsi/Blackie360/blob/main/numerical%20analysis.ipynb\" target=\"_parent\"><img src=\"https://colab.research.google.com/assets/colab-badge.svg\" alt=\"Open In Colab\"/></a>"
      ]
    },
    {
      "cell_type": "code",
      "execution_count": null,
      "metadata": {
        "id": "QZ2qx1GURXDb"
      },
      "outputs": [],
      "source": [
        " import numpy as np\n",
        "\n",
        "def power_iteration(A, num_iterations=100, tol=1e-6):\n",
        "   n = len(A)\n",
        "  x = np.random.rand(n)  # Initial guess for eigenvector\n",
        "\n",
        "  for _ in range(num_iterations):\n",
        "    x_new = A @ x\n",
        "    x_new /= np.linalg.norm(x_new)\n",
        "    eigenvalue = x_new.dot(A @ x_new)\n",
        "    if np.linalg.norm(x_new - x) < tol:\n",
        "      break\n",
        "    x = x_new\n",
        "\n",
        "  return eigenvalue, x_new"
      ]
    },
    {
      "cell_type": "code",
      "source": [
        "import sympy as sp\n",
        "\n",
        "# Define the symbol and the function\n",
        "x = sp.symbols('x')\n",
        "f = sp.sin(x) * sp.exp(x)\n",
        "\n",
        "# Differentiate the function\n",
        "f_prime = sp.diff(f, x)\n",
        "print(f\"f(x) = {f}\")\n",
        "print(f\"f'(x) = {f_prime}\")"
      ],
      "metadata": {
        "id": "qniIKOj4XXpw"
      },
      "execution_count": null,
      "outputs": []
    },
    {
      "cell_type": "code",
      "source": [
        "#2. Numerical Integration\n",
        "import scipy.integrate as spi\n",
        "import numpy as np\n",
        "\n",
        "# Define the function\n",
        "def func(x):\n",
        "    return np.sin(x) * np.exp(x)\n",
        "\n",
        "# Perform numerical integration\n",
        "result, error = spi.quad(func, 0, np.pi)\n",
        "print(f\"Integral of sin(x) * exp(x) from 0 to pi: {result}\")"
      ],
      "metadata": {
        "id": "B2Ez2admY9eR"
      },
      "execution_count": null,
      "outputs": []
    },
    {
      "cell_type": "code",
      "source": [
        "#3. Curve Fitting\n",
        "import scipy.optimize as spo\n",
        "import matplotlib.pyplot as plt\n",
        "\n",
        "# Define the data points\n",
        "x_data = np.array([0, 1, 2, 3, 4, 5])\n",
        "y_data = np.array([0, 0.8, 0.9, 0.1, -0.8, -1.0])\n",
        "\n",
        "# Define the model function\n",
        "def model(x, a, b, c):\n",
        "    return a * np.sin(b * x + c)\n",
        "\n",
        "# Fit the model to the data\n",
        "params, params_covariance = spo.curve_fit(model, x_data, y_data, p0=[1, 1, 0])\n",
        "\n",
        "# Plot the results\n",
        "plt.scatter(x_data, y_data, label='Data')\n",
        "plt.plot(x_data, model(x_data, *params), label='Fitted function', color='red')\n",
        "plt.legend(loc='best')\n",
        "plt.show()\n",
        "\n",
        "print(f\"Fitted parameters: {params}\")"
      ],
      "metadata": {
        "id": "iKXNKPesZNhY"
      },
      "execution_count": null,
      "outputs": []
    },
    {
      "cell_type": "code",
      "source": [
        "#4. Linear Regression\n",
        "from sklearn.linear_model import LinearRegression\n",
        "\n",
        "# Define the data points\n",
        "X = np.array([[1], [2], [3], [4], [5]])\n",
        "y = np.array([1, 3, 3, 2, 5])\n",
        "\n",
        "# Create the model and fit it\n",
        "model = LinearRegression()\n",
        "model.fit(X, y)\n",
        "\n",
        "# Predict\n",
        "y_pred = model.predict(X)\n",
        "\n",
        "# Plot the results\n",
        "plt.scatter(X, y, label='Data')\n",
        "plt.plot(X, y_pred, label='Linear fit', color='red')\n",
        "plt.legend(loc='best')\n",
        "plt.show()\n",
        "\n",
        "print(f\"Coefficients: {model.coef_}\")\n",
        "print(f\"Intercept: {model.intercept_}\")"
      ],
      "metadata": {
        "id": "hqifkYM4Zc2Z"
      },
      "execution_count": null,
      "outputs": []
    },
    {
      "cell_type": "code",
      "source": [
        "#5. Spline Interpolation\n",
        "import scipy.interpolate as spi\n",
        "\n",
        "# Define the data points\n",
        "x_data = np.array([0, 1, 2, 3, 4, 5])\n",
        "y_data = np.array([0, 0.8, 0.9, 0.1, -0.8, -1.0])\n",
        "\n",
        "# Create the spline interpolator\n",
        "spline = spi.InterpolatedUnivariateSpline(x_data, y_data)\n",
        "\n",
        "# Define the points where we want to evaluate the spline\n",
        "x_new = np.linspace(0, 5, 100)\n",
        "y_new = spline(x_new)\n",
        "\n",
        "# Plot the results\n",
        "plt.scatter(x_data, y_data, label='Data')\n",
        "plt.plot(x_new, y_new, label='Spline interpolation', color='red')\n",
        "plt.legend(loc='best')\n",
        "plt.show()"
      ],
      "metadata": {
        "id": "ioSwaa89ZpAG"
      },
      "execution_count": null,
      "outputs": []
    },
    {
      "cell_type": "code",
      "source": [
        "import numpy as np\n",
        "import matplotlib.pyplot as plt\n",
        "\n",
        "# Define the parameters\n",
        "f1 = 50  # Frequency 1 in Hz\n",
        "f2 = 120 # Frequency 2 in Hz\n",
        "fs = 1000 # Sampling frequency in Hz\n",
        "t = np.arange(0, 1, 1/fs) # Time vector from 0 to 1 second with step size 1/fs\n",
        "\n",
        "# Define the signal s(t)\n",
        "s = np.sin(2 * np.pi * f1 * t) + np.sin(2 * np.pi * f2 * t)\n",
        "\n",
        "# Compute the FFT\n",
        "S = np.fft.fft(s)\n",
        "N = len(S)\n",
        "S = S / N # Normalize the FFT\n",
        "freq = np.fft.fftfreq(N, 1/fs)\n",
        "\n",
        "# Plot the signal in time domain\n",
        "plt.figure(figsize=(12, 6))\n",
        "\n",
        "plt.subplot(2, 1, 1)\n",
        "plt.plot(t, s)\n",
        "plt.title('Signal in Time Domain')\n",
        "plt.xlabel('Time [s]')\n",
        "plt.ylabel('Amplitude')\n",
        "plt.grid()\n",
        "\n",
        "# Plot the magnitude of the FFT\n",
        "plt.subplot(2, 1, 2)\n",
        "plt.stem(freq[:N//2], np.abs(S)[:N//2], 'b', markerfmt=\" \", basefmt=\"-b\")\n",
        "plt.title('Magnitude of FFT')\n",
        "plt.xlabel('Frequency [Hz]')\n",
        "plt.ylabel('Magnitude')\n",
        "plt.grid()\n",
        "\n",
        "plt.tight_layout()\n",
        "plt.show()"
      ],
      "metadata": {
        "id": "ddlreSzuai4-"
      },
      "execution_count": null,
      "outputs": []
    },
    {
      "cell_type": "code",
      "source": [],
      "metadata": {
        "id": "SldftOEgbAhd"
      },
      "execution_count": null,
      "outputs": []
    }
  ]
}